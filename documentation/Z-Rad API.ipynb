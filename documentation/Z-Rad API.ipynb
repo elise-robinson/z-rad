{
 "cells": [
  {
   "cell_type": "code",
   "execution_count": 1,
   "id": "a46541ab",
   "metadata": {},
   "outputs": [],
   "source": [
    "import sys\n",
    "import os\n",
    "import nibabel as nib\n",
    "import numpy as np\n",
    "\n",
    "sys.path.append('C:/Users/maksy/OneDrive/Документы/GitHub/') # Add ZRad project to the path\n",
    "\n",
    "# Import all necessary modules\n",
    "from zrad.zrad.logic.preprocessing import Preprocessing\n",
    "from zrad.zrad.logic.filtering import Mean, LoG, Wavelets2D, Wavelets3D, Laws, Filtering\n",
    "from zrad.zrad.logic.radiomics import Radiomics"
   ]
  },
  {
   "cell_type": "markdown",
   "id": "517e6121",
   "metadata": {},
   "source": [
    "# IBSI I "
   ]
  },
  {
   "cell_type": "markdown",
   "id": "ebddfc9c",
   "metadata": {},
   "source": [
    "## Config. A: NIFTI"
   ]
  },
  {
   "cell_type": "code",
   "execution_count": 2,
   "id": "69fdbb40",
   "metadata": {},
   "outputs": [
    {
     "name": "stdout",
     "output_type": "stream",
     "text": [
      "Completed!\n"
     ]
    }
   ],
   "source": [
    "rad = Radiomics(load_dir='Test_Cases/IBSI I/NIFTI/', \n",
    "                save_dir='Test_Cases/IBSI I/Save/A_NIFTI',\n",
    "                input_data_type='NIFTI', \n",
    "                input_imaging_mod='CT',\n",
    "                intensity_range=[-500, 400], \n",
    "                bin_size=25, \n",
    "                aggr_dim='2D', \n",
    "                aggr_method='MERG',\n",
    "                list_of_patient_folders=['1'],\n",
    "                structure_set=['mask'],\n",
    "                nifti_image='phantom.nii.gz',\n",
    "                number_of_threads=1)\n",
    "rad.extract_radiomics()"
   ]
  },
  {
   "cell_type": "markdown",
   "id": "81740251",
   "metadata": {},
   "source": [
    "## Config. A: DICOM"
   ]
  },
  {
   "cell_type": "code",
   "execution_count": 3,
   "id": "e191de25",
   "metadata": {},
   "outputs": [
    {
     "name": "stdout",
     "output_type": "stream",
     "text": [
      "Completed!\n"
     ]
    }
   ],
   "source": [
    "rad = Radiomics(load_dir='Test_Cases/IBSI I/DICOM/', \n",
    "                save_dir='Test_Cases/IBSI I/Save/A_DICOM',\n",
    "                input_data_type='DICOM', \n",
    "                input_imaging_mod='CT',\n",
    "                intensity_range=[-500, 400], \n",
    "                bin_size=25, \n",
    "                aggr_dim='2D', \n",
    "                aggr_method='MERG',\n",
    "                list_of_patient_folders=['1'],\n",
    "                structure_set=['GTV-1'], \n",
    "                number_of_threads=1)\n",
    "rad.extract_radiomics()"
   ]
  },
  {
   "cell_type": "markdown",
   "id": "359409e9",
   "metadata": {},
   "source": [
    "## Config. B: NIFTI"
   ]
  },
  {
   "cell_type": "code",
   "execution_count": 4,
   "id": "c4d430f0",
   "metadata": {},
   "outputs": [
    {
     "name": "stdout",
     "output_type": "stream",
     "text": [
      "Completed!\n"
     ]
    }
   ],
   "source": [
    "prep = Preprocessing(load_dir='Test_Cases/IBSI I/NIFTI',\n",
    "                     save_dir='Test_Cases/IBSI I/Save/B_NIFTI',\n",
    "                     input_data_type='NIFTI',\n",
    "                     input_imaging_mod='CT',\n",
    "                     structure_set=['mask'],\n",
    "                     just_save_as_nifti=False,\n",
    "                     resample_resolution=2.0,\n",
    "                     resample_dimension='2D',\n",
    "                     image_interpolation_method='Linear',\n",
    "                     mask_interpolation_method='Linear',\n",
    "                     mask_interpolation_threshold=0.5,\n",
    "                     list_of_patient_folders=['1'],\n",
    "                     nifti_image='phantom.nii.gz',\n",
    "                     number_of_threads=1)\n",
    "prep.resample()"
   ]
  },
  {
   "cell_type": "code",
   "execution_count": 5,
   "id": "579c943b",
   "metadata": {},
   "outputs": [
    {
     "name": "stdout",
     "output_type": "stream",
     "text": [
      "Completed!\n"
     ]
    }
   ],
   "source": [
    "rad = Radiomics(load_dir='Test_Cases/IBSI I/Save/B_NIFTI', \n",
    "                save_dir='Test_Cases/IBSI I/Save/B_NIFTI',\n",
    "                input_data_type='NIFTI', \n",
    "                input_imaging_mod='CT',\n",
    "                intensity_range=[-500, 400], \n",
    "                number_of_bins=32, \n",
    "                aggr_dim='2D', \n",
    "                aggr_method='MERG',\n",
    "                list_of_patient_folders=['1'],\n",
    "                structure_set=['MASK_mask'], \n",
    "                nifti_image='IMAGE.nii.gz',\n",
    "                number_of_threads=1)\n",
    "rad.extract_radiomics()"
   ]
  },
  {
   "cell_type": "markdown",
   "id": "c33ee38c",
   "metadata": {},
   "source": [
    "## Config. B: DICOM"
   ]
  },
  {
   "cell_type": "code",
   "execution_count": 6,
   "id": "e76ac510",
   "metadata": {},
   "outputs": [
    {
     "name": "stdout",
     "output_type": "stream",
     "text": [
      "Completed!\n"
     ]
    }
   ],
   "source": [
    "prep = Preprocessing(load_dir='Test_Cases/IBSI I/DICOM', \n",
    "                     save_dir='Test_Cases/IBSI I/Save/B_DICOM',\n",
    "                     input_data_type='DICOM', \n",
    "                     input_imaging_mod='CT', \n",
    "                     structure_set=['GTV-1'], \n",
    "                     just_save_as_nifti=False, \n",
    "                     resample_resolution=2.0, \n",
    "                     resample_dimension='2D',\n",
    "                     image_interpolation_method='Linear',\n",
    "                     mask_interpolation_method='Linear',\n",
    "                     mask_interpolation_threshold=0.5,\n",
    "                     list_of_patient_folders=['1'],\n",
    "                     number_of_threads=1)\n",
    "prep.resample()"
   ]
  },
  {
   "cell_type": "code",
   "execution_count": 7,
   "id": "069623f3",
   "metadata": {},
   "outputs": [
    {
     "name": "stdout",
     "output_type": "stream",
     "text": [
      "Completed!\n"
     ]
    }
   ],
   "source": [
    "rad = Radiomics(load_dir='Test_Cases/IBSI I/Save/B_DICOM', \n",
    "                save_dir='Test_Cases/IBSI I/Save/B_DICOM',\n",
    "                input_data_type='NIFTI', \n",
    "                input_imaging_mod='CT',\n",
    "                intensity_range=[-500, 400], \n",
    "                number_of_bins=32, \n",
    "                aggr_dim='2D', \n",
    "                aggr_method='MERG',\n",
    "                list_of_patient_folders=['1'],\n",
    "                structure_set=['MASK_GTV-1'], \n",
    "                nifti_image='IMAGE.nii.gz',\n",
    "                number_of_threads=1)\n",
    "rad.extract_radiomics()"
   ]
  },
  {
   "cell_type": "markdown",
   "id": "0b31159b",
   "metadata": {},
   "source": [
    "## Config. C and Config. D: DICOM"
   ]
  },
  {
   "cell_type": "code",
   "execution_count": 8,
   "id": "baaaf84c",
   "metadata": {},
   "outputs": [
    {
     "name": "stdout",
     "output_type": "stream",
     "text": [
      "Completed!\n"
     ]
    }
   ],
   "source": [
    "prep = Preprocessing(load_dir='Test_Cases/IBSI I/DICOM', \n",
    "                     save_dir='Test_Cases/IBSI I/Save/C_D_DICOM',\n",
    "                     input_data_type='DICOM', \n",
    "                     input_imaging_mod='CT',\n",
    "                     structure_set=['GTV-1'], \n",
    "                     just_save_as_nifti=False, \n",
    "                     resample_resolution=2.0, \n",
    "                     resample_dimension='3D',\n",
    "                     image_interpolation_method='Linear', \n",
    "                     mask_interpolation_method='Linear', \n",
    "                     mask_interpolation_threshold=0.5, \n",
    "                     list_of_patient_folders=['1'],  \n",
    "                     number_of_threads=1)\n",
    "prep.resample()"
   ]
  },
  {
   "cell_type": "markdown",
   "id": "b1af5cf6",
   "metadata": {},
   "source": [
    "### Config. C"
   ]
  },
  {
   "cell_type": "code",
   "execution_count": 9,
   "id": "526a970c",
   "metadata": {},
   "outputs": [
    {
     "name": "stdout",
     "output_type": "stream",
     "text": [
      "Completed!\n"
     ]
    }
   ],
   "source": [
    "rad = Radiomics(load_dir='Test_Cases/IBSI I/Save/C_D_DICOM', \n",
    "                save_dir='Test_Cases/IBSI I/Save/C_DICOM',\n",
    "                input_data_type='NIFTI', \n",
    "                input_imaging_mod='CT',\n",
    "                intensity_range=[-1000, 400], \n",
    "                bin_size=25, \n",
    "                aggr_dim='3D', \n",
    "                aggr_method='MERG',\n",
    "                list_of_patient_folders=['1'],\n",
    "                structure_set=['MASK_GTV-1'], \n",
    "                nifti_image='IMAGE.nii.gz',\n",
    "                number_of_threads=1)\n",
    "rad.extract_radiomics()"
   ]
  },
  {
   "cell_type": "markdown",
   "id": "725ba021",
   "metadata": {},
   "source": [
    "### Config. D"
   ]
  },
  {
   "cell_type": "code",
   "execution_count": 10,
   "id": "f92d7616",
   "metadata": {},
   "outputs": [
    {
     "name": "stdout",
     "output_type": "stream",
     "text": [
      "Completed!\n"
     ]
    }
   ],
   "source": [
    "rad = Radiomics(load_dir='Test_Cases/IBSI I/Save/C_D_DICOM', \n",
    "                save_dir='Test_Cases/IBSI I/Save/D_DICOM',\n",
    "                input_data_type='NIFTI', \n",
    "                input_imaging_mod='CT',\n",
    "                outlier_range=3,\n",
    "                number_of_bins=32,\n",
    "                aggr_dim='3D', \n",
    "                aggr_method='MERG',\n",
    "                list_of_patient_folders=['1'],\n",
    "                structure_set=['MASK_GTV-1'], \n",
    "                nifti_image='IMAGE.nii.gz',\n",
    "                number_of_threads=1)\n",
    "rad.extract_radiomics()"
   ]
  },
  {
   "cell_type": "markdown",
   "id": "9999bbb6",
   "metadata": {},
   "source": [
    "## Config. E: NIFTI"
   ]
  },
  {
   "cell_type": "code",
   "execution_count": 11,
   "id": "c6ed2275",
   "metadata": {},
   "outputs": [
    {
     "name": "stdout",
     "output_type": "stream",
     "text": [
      "Completed!\n"
     ]
    }
   ],
   "source": [
    "prep = Preprocessing(load_dir='Test_Cases/IBSI I/NIFTI', \n",
    "                     save_dir='Test_Cases/IBSI I/Save/E_NIFTI',\n",
    "                     input_data_type='NIFTI', \n",
    "                     input_imaging_mod='CT',  \n",
    "                     structure_set=['mask'], \n",
    "                     just_save_as_nifti=False,\n",
    "                     resample_resolution=2.0, \n",
    "                     resample_dimension='3D',\n",
    "                     image_interpolation_method='BSpline', \n",
    "                     mask_interpolation_method='Linear',\n",
    "                     mask_interpolation_threshold=0.5, \n",
    "                     list_of_patient_folders=['1'], \n",
    "                     nifti_image='phantom.nii.gz',\n",
    "                     number_of_threads=1)\n",
    "prep.resample()"
   ]
  },
  {
   "cell_type": "code",
   "execution_count": 12,
   "id": "48d2a734",
   "metadata": {},
   "outputs": [
    {
     "name": "stdout",
     "output_type": "stream",
     "text": [
      "Completed!\n"
     ]
    }
   ],
   "source": [
    "rad = Radiomics(load_dir='Test_Cases/IBSI I/Save/E_NIFTI', \n",
    "                save_dir='Test_Cases/IBSI I/Save/E_NIFTI',\n",
    "                input_data_type='NIFTI', \n",
    "                input_imaging_mod='CT',\n",
    "                intensity_range=[-1000, 400],\n",
    "                outlier_range=3,\n",
    "                number_of_bins=32,\n",
    "                aggr_dim='3D', \n",
    "                aggr_method='MERG',\n",
    "                list_of_patient_folders=['1'],\n",
    "                structure_set=['MASK_GTV-1'], \n",
    "                nifti_image='IMAGE.nii.gz',\n",
    "                number_of_threads=1)\n",
    "rad.extract_radiomics()"
   ]
  },
  {
   "cell_type": "markdown",
   "id": "08136d9b",
   "metadata": {},
   "source": [
    "# IBSI II Phase 2"
   ]
  },
  {
   "cell_type": "markdown",
   "id": "9bc400dd",
   "metadata": {},
   "source": [
    "## Config. A: DICOM"
   ]
  },
  {
   "cell_type": "markdown",
   "id": "958f0040",
   "metadata": {},
   "source": [
    "### 2.A"
   ]
  },
  {
   "cell_type": "code",
   "execution_count": 13,
   "id": "1580defb",
   "metadata": {},
   "outputs": [
    {
     "name": "stdout",
     "output_type": "stream",
     "text": [
      "Completed!\n"
     ]
    }
   ],
   "source": [
    "filter = Mean(padding_type='reflect',\n",
    "              dimensionality='2D',\n",
    "              support=5)\n",
    "\n",
    "filt = Filtering(load_dir='Test_Cases/IBSI II/DICOM', \n",
    "                 save_dir='Test_Cases/IBSI II/Save/2A_DICOM',\n",
    "                 input_data_type='DICOM', \n",
    "                 input_imaging_mod='CT',\n",
    "                 my_filter=filter,\n",
    "                 list_of_patient_folders=['1'],\n",
    "                 number_of_threads=1)\n",
    "filt.filtering()"
   ]
  },
  {
   "cell_type": "markdown",
   "id": "1d78f7f3",
   "metadata": {},
   "source": [
    "### 3.A"
   ]
  },
  {
   "cell_type": "code",
   "execution_count": 14,
   "id": "2db140b9",
   "metadata": {},
   "outputs": [
    {
     "name": "stdout",
     "output_type": "stream",
     "text": [
      "Completed!\n"
     ]
    }
   ],
   "source": [
    "filter = LoG(padding_type='reflect',\n",
    "             dimensionality='2D',\n",
    "             sigma_mm=1.5, \n",
    "             cutoff=4)\n",
    "\n",
    "filt = Filtering(load_dir='Test_Cases/IBSI II/DICOM', \n",
    "                 save_dir='Test_Cases/IBSI II/Save/3A_DICOM',\n",
    "                 input_data_type='DICOM', \n",
    "                 input_imaging_mod='CT', \n",
    "                 my_filter=filter,\n",
    "                 list_of_patient_folders=['1'],\n",
    "                 number_of_threads=1)\n",
    "filt.filtering()"
   ]
  },
  {
   "cell_type": "markdown",
   "id": "5c456c96",
   "metadata": {},
   "source": [
    "### 4.A"
   ]
  },
  {
   "cell_type": "code",
   "execution_count": 15,
   "id": "268d311e",
   "metadata": {},
   "outputs": [
    {
     "name": "stdout",
     "output_type": "stream",
     "text": [
      "Completed!\n"
     ]
    }
   ],
   "source": [
    "filter = Laws(padding_type='reflect',\n",
    "              dimensionality='2D',\n",
    "              response_map='L5E5',\n",
    "              rotation_invariance=True, \n",
    "              pooling=\"max\", \n",
    "              energy_map=True, \n",
    "              distance=7)\n",
    "\n",
    "filt = Filtering(load_dir='Test_Cases/IBSI II/DICOM', \n",
    "                 save_dir='Test_Cases/IBSI II/Save/4A_DICOM',\n",
    "                 input_data_type='DICOM', \n",
    "                 input_imaging_mod='CT',\n",
    "                 my_filter=filter,\n",
    "                 list_of_patient_folders=['1'],\n",
    "                 number_of_threads=1)\n",
    "filt.filtering()"
   ]
  },
  {
   "cell_type": "markdown",
   "id": "60352468",
   "metadata": {},
   "source": [
    "### 6.A"
   ]
  },
  {
   "cell_type": "code",
   "execution_count": 16,
   "id": "c2954cbb",
   "metadata": {},
   "outputs": [
    {
     "name": "stdout",
     "output_type": "stream",
     "text": [
      "Completed!\n"
     ]
    }
   ],
   "source": [
    "filter = Wavelets2D(wavelet_type=\"db3\", \n",
    "                    padding_type=\"reflect\", \n",
    "                    response_map=\"LH\", \n",
    "                    decomposition_level=1,\n",
    "                    rotation_invariance=True)\n",
    "\n",
    "filt = Filtering(load_dir='Test_Cases/IBSI II/DICOM', \n",
    "                 save_dir='Test_Cases/IBSI II/Save/6A_DICOM',\n",
    "                 input_data_type='DICOM', \n",
    "                 input_imaging_mod='CT',\n",
    "                 my_filter=filter,\n",
    "                 list_of_patient_folders=['1'],\n",
    "                 number_of_threads=1)\n",
    "filt.filtering()"
   ]
  },
  {
   "cell_type": "markdown",
   "id": "5673c741",
   "metadata": {},
   "source": [
    "### 7.A"
   ]
  },
  {
   "cell_type": "code",
   "execution_count": 17,
   "id": "a5fc95ac",
   "metadata": {},
   "outputs": [
    {
     "name": "stdout",
     "output_type": "stream",
     "text": [
      "Completed!\n"
     ]
    }
   ],
   "source": [
    "filter = Wavelets2D(wavelet_type=\"db3\", \n",
    "                    padding_type=\"reflect\", \n",
    "                    response_map=\"HH\", \n",
    "                    decomposition_level=2,\n",
    "                    rotation_invariance=True)\n",
    "\n",
    "filt = Filtering(load_dir='Test_Cases/IBSI II/DICOM', \n",
    "                 save_dir='Test_Cases/IBSI II/Save/7A_DICOM',\n",
    "                 input_data_type='DICOM', \n",
    "                 input_imaging_mod='CT',\n",
    "                 my_filter=filter,\n",
    "                 list_of_patient_folders=['1'],\n",
    "                 number_of_threads=1)\n",
    "filt.filtering()"
   ]
  },
  {
   "cell_type": "markdown",
   "id": "229d4238",
   "metadata": {},
   "source": [
    "## Config. B: NIFTI"
   ]
  },
  {
   "cell_type": "code",
   "execution_count": 25,
   "id": "2e7cc64c",
   "metadata": {},
   "outputs": [
    {
     "name": "stdout",
     "output_type": "stream",
     "text": [
      "Completed!\n"
     ]
    }
   ],
   "source": [
    "prep = Preprocessing(load_dir='Test_Cases/IBSI II/NIFTI', \n",
    "                     save_dir='Test_Cases/IBSI II/NIFTI',\n",
    "                     input_data_type='NIFTI', \n",
    "                     input_imaging_mod='CT', \n",
    "                     structure_set=['mask'],\n",
    "                     just_save_as_nifti=False, \n",
    "                     resample_resolution=1.0, \n",
    "                     resample_dimension='3D',  \n",
    "                     image_interpolation_method='BSpline',\n",
    "                     mask_interpolation_method='Linear', \n",
    "                     mask_interpolation_threshold=0.5,\n",
    "                     list_of_patient_folders=['1'],\n",
    "                     nifti_image='phantom.nii.gz',\n",
    "                     number_of_threads=1)\n",
    "prep.resample()"
   ]
  },
  {
   "cell_type": "markdown",
   "id": "80abb486",
   "metadata": {},
   "source": [
    "### 2.B"
   ]
  },
  {
   "cell_type": "code",
   "execution_count": 26,
   "id": "37045c9d",
   "metadata": {},
   "outputs": [
    {
     "name": "stdout",
     "output_type": "stream",
     "text": [
      "Completed!\n"
     ]
    }
   ],
   "source": [
    "filter = Mean(padding_type='reflect',\n",
    "              dimensionality='3D',\n",
    "              support=5)\n",
    "\n",
    "filt = Filtering(load_dir='Test_Cases/IBSI II/NIFTI', \n",
    "                 save_dir='Test_Cases/IBSI II/Save/2B_NIFTI',\n",
    "                 input_data_type='NIFTI', \n",
    "                 input_imaging_mod='CT',\n",
    "                 my_filter=filter,\n",
    "                 start_folder=None, stop_folder=None, list_of_patient_folders=None,\n",
    "                 nifti_image='IMAGE.nii.gz',\n",
    "                 number_of_threads=1)\n",
    "filt.filtering()"
   ]
  },
  {
   "cell_type": "markdown",
   "id": "652ce09a",
   "metadata": {},
   "source": [
    "### 3.B "
   ]
  },
  {
   "cell_type": "code",
   "execution_count": 20,
   "id": "093b4c21",
   "metadata": {},
   "outputs": [
    {
     "name": "stdout",
     "output_type": "stream",
     "text": [
      "Completed!\n"
     ]
    }
   ],
   "source": [
    "filter = LoG(padding_type='reflect',\n",
    "             dimensionality='3D',\n",
    "             sigma_mm=1.5, \n",
    "             cutoff=4)\n",
    "\n",
    "filt = Filtering(load_dir='Test_Cases/IBSI II/NIFTI', \n",
    "                 save_dir='Test_Cases/IBSI II/Save/3B_NIFTI',\n",
    "                 input_data_type='NIFTI', \n",
    "                 input_imaging_mod='CT', \n",
    "                 my_filter=filter,\n",
    "                 start_folder=None, stop_folder=None, list_of_patient_folders=None,\n",
    "                 nifti_image='IMAGE.nii.gz',\n",
    "                 number_of_threads=1)\n",
    "filt.filtering()"
   ]
  },
  {
   "cell_type": "markdown",
   "id": "24d4d7f2",
   "metadata": {},
   "source": [
    "### 4.B"
   ]
  },
  {
   "cell_type": "code",
   "execution_count": 21,
   "id": "9c1933f4",
   "metadata": {},
   "outputs": [
    {
     "name": "stdout",
     "output_type": "stream",
     "text": [
      "Completed!\n"
     ]
    }
   ],
   "source": [
    "filter = Laws(response_map=\"L5E5E5\", \n",
    "               padding_type=\"reflect\", \n",
    "               dimensionality=\"3D\", \n",
    "               rotation_invariance=True, \n",
    "               pooling=\"max\", \n",
    "               energy_map=True, \n",
    "               distance=7)\n",
    "\n",
    "filt = Filtering(load_dir='Test_Cases/IBSI II/NIFTI', \n",
    "                 save_dir='Test_Cases/IBSI II/Save/4B_NIFTI',\n",
    "                 input_data_type='NIFTI', \n",
    "                 input_imaging_mod='CT',\n",
    "                 my_filter=filter,\n",
    "                 start_folder=None, stop_folder=None, list_of_patient_folders=None,\n",
    "                 nifti_image='IMAGE.nii.gz',\n",
    "                 number_of_threads=1)\n",
    "filt.filtering()"
   ]
  },
  {
   "cell_type": "markdown",
   "id": "8a5a0a63",
   "metadata": {},
   "source": [
    "### 6.B"
   ]
  },
  {
   "cell_type": "code",
   "execution_count": 22,
   "id": "e5e38490",
   "metadata": {},
   "outputs": [
    {
     "name": "stdout",
     "output_type": "stream",
     "text": [
      "Completed!\n"
     ]
    }
   ],
   "source": [
    "filter = Wavelets3D(wavelet_type=\"db3\", \n",
    "                    padding_type=\"reflect\", \n",
    "                    response_map=\"LLH\", \n",
    "                    decomposition_level=1,\n",
    "                    rotation_invariance=True)\n",
    "\n",
    "filt = Filtering(load_dir='Test_Cases/IBSI II/NIFTI', \n",
    "                 save_dir='Test_Cases/IBSI II/Save/6B_NIFTI',\n",
    "                 input_data_type='NIFTI', \n",
    "                 input_imaging_mod='CT',\n",
    "                 my_filter=filter,\n",
    "                 start_folder=None, stop_folder=None, list_of_patient_folders=None,\n",
    "                 nifti_image='IMAGE.nii.gz',\n",
    "                 number_of_threads=1)\n",
    "filt.filtering()"
   ]
  },
  {
   "cell_type": "markdown",
   "id": "543a7da6",
   "metadata": {},
   "source": [
    "### B.7"
   ]
  },
  {
   "cell_type": "code",
   "execution_count": 23,
   "id": "2e5ddcf8",
   "metadata": {},
   "outputs": [
    {
     "name": "stdout",
     "output_type": "stream",
     "text": [
      "Completed!\n"
     ]
    }
   ],
   "source": [
    "filter = Wavelets3D(wavelet_type=\"db3\", \n",
    "                    padding_type=\"reflect\", \n",
    "                    response_map=\"HHH\", \n",
    "                    decomposition_level=2,\n",
    "                    rotation_invariance=True)\n",
    "\n",
    "filt = Filtering(load_dir='Test_Cases/IBSI II/NIFTI', \n",
    "                 save_dir='Test_Cases/IBSI II/Save/7B_NIFTI',\n",
    "                 input_data_type='NIFTI', \n",
    "                 input_imaging_mod='CT',\n",
    "                 my_filter=filter,\n",
    "                 start_folder=None, stop_folder=None, list_of_patient_folders=None,\n",
    "                 nifti_image='IMAGE.nii.gz',\n",
    "                 number_of_threads=1)\n",
    "filt.filtering()"
   ]
  },
  {
   "cell_type": "code",
   "execution_count": null,
   "id": "a6fc9aa9",
   "metadata": {},
   "outputs": [],
   "source": []
  }
 ],
 "metadata": {
  "kernelspec": {
   "display_name": "Python 3 (ipykernel)",
   "language": "python",
   "name": "python3"
  },
  "language_info": {
   "codemirror_mode": {
    "name": "ipython",
    "version": 3
   },
   "file_extension": ".py",
   "mimetype": "text/x-python",
   "name": "python",
   "nbconvert_exporter": "python",
   "pygments_lexer": "ipython3",
   "version": "3.11.7"
  }
 },
 "nbformat": 4,
 "nbformat_minor": 5
}
