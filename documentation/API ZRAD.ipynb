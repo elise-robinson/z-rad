{
 "cells": [
  {
   "cell_type": "code",
   "execution_count": 7,
   "id": "0f09b6b1",
   "metadata": {},
   "outputs": [],
   "source": [
    "import sys\n",
    "sys.path.append('C:/Users/maksy/OneDrive/Документы/GitHub/zrad')\n",
    "from zrad.logic.preprocessing import Preprocessing\n",
    "from zrad.logic.filters import Mean, LoG, Wavelets2D, Wavelets3D, Laws\n",
    "from zrad.logic.filtering import Filtering"
   ]
  },
  {
   "cell_type": "code",
   "execution_count": 8,
   "id": "3813e901",
   "metadata": {},
   "outputs": [],
   "source": [
    "prep = Preprocessing(load_dir = 'C:/Users/maksy/OneDrive/Desktop/Test', \n",
    "                     folder_prefix = '',\n",
    "                     start_folder = '',\n",
    "                     stop_folder='',\n",
    "                     list_of_patient_folders=[2,8,10,11,12], \n",
    "                     input_data_type='NIFTI',\n",
    "                     dicom_structures=[''], \n",
    "                     nifti_image='image.nii.gz',\n",
    "                     nifti_structures=['mask_liver'],\n",
    "                     mask_interpolation_method='Linear',  # 'NN', 'Linear', 'BSpline', 'Gaussian'\n",
    "                     mask_interpolation_threshold='0.5',  # float\n",
    "                     image_interpolation_method='Linear',  # 'NN', 'Linear', 'BSpline', 'Gaussian'\n",
    "                     resample_resolution=3.0,  # flat\n",
    "                     resample_dimension='2D',  # '2D', '3D'\n",
    "                     save_dir='C:/Users/maksy/OneDrive/Desktop/Test/Save',\n",
    "                     output_data_type='NIFTI',  #'NIFTI', 'DICOM'\n",
    "                     output_imaging_type='CT', # 'CT', 'MR', 'PT'\n",
    "                     number_of_threads=2  # int\n",
    "                    )"
   ]
  },
  {
   "cell_type": "code",
   "execution_count": 9,
   "id": "3b96cb87",
   "metadata": {},
   "outputs": [
    {
     "name": "stdout",
     "output_type": "stream",
     "text": [
      "STARTED\n",
      "STOPPED\n"
     ]
    }
   ],
   "source": [
    "prep.resample()"
   ]
  },
  {
   "cell_type": "code",
   "execution_count": 10,
   "id": "d949cf09",
   "metadata": {},
   "outputs": [],
   "source": [
    "my_filter = Mean(padding_type='nearest',\n",
    "                 dimensionality='3D',\n",
    "                 support=5\n",
    "                )"
   ]
  },
  {
   "cell_type": "code",
   "execution_count": 11,
   "id": "9e631864",
   "metadata": {},
   "outputs": [],
   "source": [
    "filt = Filtering(load_dir='C:/Users/maksy/OneDrive/Desktop/Test', \n",
    "                 folder_prefix = '',\n",
    "                 start_folder = '',\n",
    "                 stop_folder='',\n",
    "                 list_of_patient_folders=[2], \n",
    "                 input_data_type='NIFTI',\n",
    "                 nifti_image='image.nii.gz',\n",
    "                 filter_type='Mean',\n",
    "                 my_filter=my_filter, \n",
    "                 save_dir='C:/Users/maksy/OneDrive/Desktop/Test/Save', \n",
    "                 number_of_threads='2'\n",
    "                )"
   ]
  },
  {
   "cell_type": "code",
   "execution_count": null,
   "id": "911f869f",
   "metadata": {},
   "outputs": [
    {
     "name": "stdout",
     "output_type": "stream",
     "text": [
      "START\n"
     ]
    }
   ],
   "source": [
    "filt.filtering()"
   ]
  },
  {
   "cell_type": "code",
   "execution_count": null,
   "id": "702f5b0a",
   "metadata": {},
   "outputs": [],
   "source": []
  }
 ],
 "metadata": {
  "kernelspec": {
   "display_name": "Python 3 (ipykernel)",
   "language": "python",
   "name": "python3"
  },
  "language_info": {
   "codemirror_mode": {
    "name": "ipython",
    "version": 3
   },
   "file_extension": ".py",
   "mimetype": "text/x-python",
   "name": "python",
   "nbconvert_exporter": "python",
   "pygments_lexer": "ipython3",
   "version": "3.11.0"
  }
 },
 "nbformat": 4,
 "nbformat_minor": 5
}
